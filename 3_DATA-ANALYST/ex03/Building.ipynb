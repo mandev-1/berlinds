{
 "cells": [
  {
   "cell_type": "markdown",
   "id": "3f45d58c",
   "metadata": {},
   "source": [
    "# # This file is part of the Python for Data Analysis course.\n",
    "\n",
    "# 1: • made a bar chart with the number of orders according to the frequency\n",
    "# 2: • made a bar chart the Altairian Dollars spent on the site by customers\n",
    "\n",
    "\n",
    "# 1:  X AXIS: FREQUENCY\n",
    "# #   Y AXIS: CUSTOMERS\n",
    "# # \n",
    "# -- This chart generates a bar chart with frequency of shoppers:\n",
    "# -- CATEGORIES ARE 0 - 7; 8 - 15; 16 - 23; 24 - 31; 32 - 39\n",
    "# -- THESE CATEGORIES ARE THE BARS\n",
    "\n",
    "# 2:  X AXIS: CUSTOMERS\n",
    "# #   Y AXIS: MONETARY VALUE IN '₳  \n",
    "# -- This chart generates bars of the lifetime value of customers:\n",
    "# -- CATEGORIES ARE 0 - 25; 26 - 75; 76 - 125; 126 - 175; 176 - 225\n",
    "# -- This is the monetary value of the customers in Altairian Dollars (₳)\n",
    "# -- The Y axis is # amount of customers in the step of 5000 - 0, 5000, 10000, 15000, 20000..                                                                   \n",
    "                                                            "
   ]
  },
  {
   "cell_type": "code",
   "execution_count": 1,
   "id": "187be5b8",
   "metadata": {},
   "outputs": [],
   "source": [
    "# run this shit in some terminal\n",
    "# uv pip install ipykernel\n",
    "# python -m ipykernel install --user --name=my-uv-env --display-name=\"Python (uv project)\"\n",
    "# uv pip install psycopg2-binary\n",
    "# %pip install psycopg2-binary\n",
    "# %pip install matplotlib\n",
    "# %pip install pandas\n",
    "# %pip install seaborn\n"
   ]
  },
  {
   "cell_type": "code",
   "execution_count": 2,
   "id": "20385907",
   "metadata": {},
   "outputs": [],
   "source": [
    "import sys\n",
    "import os\n",
    "\n",
    "# Add the parent directory to sys.path so we can import CONNECT_TO_DB\n",
    "notebook_dir = os.getcwd()\n",
    "sys.path.append(os.path.dirname(notebook_dir))\n",
    "\n",
    "from CONNECT_TO_DB import setup_connection\n",
    "import psycopg2\n",
    "import pandas as pd\n",
    "import seaborn as sns\n",
    "import matplotlib.pyplot as plt"
   ]
  },
  {
   "cell_type": "markdown",
   "id": "f83375c5",
   "metadata": {},
   "source": [
    "**Structure of the `customers` table:**\n",
    "\n",
    "| Column Name    | Data Type                                      |\n",
    "|----------------|------------------------------------------------|\n",
    "| event_type     | character varying(50)                          |\n",
    "| product_id     | integer                                        |\n",
    "| price          | numeric(10,2)                                  |\n",
    "| user_id        | bigint                                         |\n",
    "| user_session   | uuid                                           |\n",
    "| event_time     | timestamp without time zone                    |\n",
    "| category_id    | bigint                                         |\n",
    "| category_code  | character varying(255)                         |\n",
    "| brand          | character varying(255)                         |"
   ]
  },
  {
   "cell_type": "markdown",
   "id": "b9cf3bfb",
   "metadata": {
    "vscode": {
     "languageId": "sql"
    }
   },
   "source": [
    "QUERY USED IN PRIOR EX.:\n",
    "\n",
    "```SQL\n",
    "SELECT \n",
    "    user_session, \n",
    "    user_id,\n",
    "    MIN(event_time) AS first_event,\n",
    "    MAX(event_time) AS last_event,\n",
    "    COUNT(*) AS event_count,\n",
    "    SUM(CASE WHEN event_type NOT IN ('view', 'remove_from_cart') THEN price ELSE 0 END) AS price_total,\n",
    "    SUM(CASE WHEN event_type = 'remove_from_cart' THEN price ELSE 0 END) AS price_subtract,\n",
    "    SUM(CASE WHEN event_type NOT IN ('view', 'remove_from_cart') THEN price ELSE 0 END) - SUM(CASE WHEN event_type = 'remove_from_cart' THEN price ELSE 0 END) AS basket_session,\n",
    "    SUM(CASE WHEN event_type = 'purchase' THEN 1 ELSE 0 END) AS purchase_per_session,\n",
    "    CASE \n",
    "        WHEN SUM(CASE WHEN event_type = 'purchase' THEN 1 ELSE 0 END) > 0 THEN TRUE \n",
    "        ELSE FALSE \n",
    "    END AS has_purchase,\n",
    "    CASE \n",
    "        WHEN SUM(CASE WHEN event_type = 'purchase' THEN 1 ELSE 0 END) = 0 THEN 0\n",
    "        ELSE \n",
    "            (SUM(CASE WHEN event_type != 'view' THEN price ELSE 0 END) - SUM(CASE WHEN event_type = 'remove_from_cart' THEN price ELSE 0 END)) \n",
    "            / NULLIF(SUM(CASE WHEN event_type = 'purchase' THEN 1 ELSE 0 END), 0)\n",
    "    END AS price_per_purchase\n",
    "FROM public.customers \n",
    "WHERE user_session != '00000000-0000-0000-0000-000000000000' \n",
    "GROUP BY user_session, user_id\n",
    "HAVING SUM(CASE WHEN event_type != 'view' THEN price ELSE 0 END) - SUM(CASE WHEN event_type = 'remove_from_cart' THEN price ELSE 0 END) != 0\n",
    "AND SUM(CASE WHEN event_type = 'purchase' THEN 1 ELSE 0 END) > 0\n",
    "ORDER BY MIN(event_time);\n",
    "```"
   ]
  },
  {
   "cell_type": "code",
   "execution_count": 22,
   "id": "bdbe5570",
   "metadata": {},
   "outputs": [
    {
     "name": "stderr",
     "output_type": "stream",
     "text": [
      "/tmp/ipykernel_1763744/3821516259.py:8: UserWarning: pandas only supports SQLAlchemy connectable (engine/connection) or database string URI or sqlite3 DBAPI2 connection. Other DBAPI2 objects are not tested. Please consider using SQLAlchemy.\n",
      "  df = pd.read_sql(query, conn)\n",
      "2025-06-05 21:44:19 [INFO] Fontsize 0.00 < 1.0 pt not allowed by FreeType. Setting fontsize = 1 pt\n",
      "2025-06-05 21:44:19 [INFO] Using categorical units to plot a list of strings that are all parsable as floats or dates. If these strings should be plotted as numbers, cast to the appropriate data type before plotting.\n",
      "2025-06-05 21:44:19 [INFO] Using categorical units to plot a list of strings that are all parsable as floats or dates. If these strings should be plotted as numbers, cast to the appropriate data type before plotting.\n"
     ]
    },
    {
     "name": "stdout",
     "output_type": "stream",
     "text": [
      "Customer count per Altairian Dollar bin:\n",
      "spent_bin\n",
      "0      1573180\n",
      "25       44265\n",
      "75       11176\n",
      "125       4247\n",
      "175       2349\n",
      "225       4126\n",
      "Name: count, dtype: int64\n"
     ]
    },
    {
     "data": {
      "image/png": "[encoded data removed]",
      "text/plain": [
       "<Figure size 800x600 with 1 Axes>"
      ]
     },
     "metadata": {},
     "output_type": "display_data"
    }
   ],
   "source": [
    "def plot_monetary_bar_exact():\n",
    "    conn = setup_connection()\n",
    "    query = \"\"\"\n",
    "    SELECT user_id, SUM(CASE WHEN event_type='purchase' THEN price ELSE 0 END) AS total_spent\n",
    "    FROM customers\n",
    "    GROUP BY user_id\n",
    "    \"\"\"\n",
    "    df = pd.read_sql(query, conn)\n",
    "    conn.close()\n",
    "    \n",
    "    # Bin monetary values\n",
    "    bins = [0, 25, 75, 125, 175, 225, float('inf')]\n",
    "    labels = ['0','25', '75', '125', '175', '225']\n",
    "    df['spent_bin'] = pd.cut(df['total_spent'], bins=bins, labels=labels, right=True, include_lowest=True)\n",
    "    spent_counts = df['spent_bin'].value_counts().sort_index()\n",
    "    \n",
    "    print(\"Customer count per Altairian Dollar bin:\")\n",
    "    print(spent_counts)\n",
    "    \n",
    "    plt.figure(figsize=(8, 6))\n",
    "    plt.gca().set_facecolor('#E8E8F0')\n",
    "    plt.gcf().patch.set_facecolor('white')\n",
    "    \n",
    "    # Remove gaps by setting width=1 and aligning bars to edges\n",
    "    plt.bar(spent_counts.index, spent_counts.values, \n",
    "            color='#7FB3D3', alpha=0.8, edgecolor='white', linewidth=1, width=1, align='edge')\n",
    "    \n",
    "    plt.xlabel('Customer Lifetime Value (₳)', fontsize=12, color='#333333')\n",
    "    plt.ylabel('customers', fontsize=12, color='#333333')\n",
    "    \n",
    "    plt.xticks(fontsize=10, color='#666666')\n",
    "    plt.yticks(fontsize=10, color='#666666')\n",
    "    \n",
    "    plt.grid(True, color='white', linewidth=1, alpha=0.8)\n",
    "    plt.gca().set_axisbelow(True)\n",
    "    \n",
    "    plt.gca().spines['top'].set_visible(False)\n",
    "    plt.gca().spines['right'].set_visible(False)\n",
    "    plt.gca().spines['left'].set_color('#CCCCCC')\n",
    "    plt.gca().spines['bottom'].set_color('#CCCCCC')\n",
    "    \n",
    "    plt.tight_layout()\n",
    "    plt.show()\n",
    "\n",
    "plot_monetary_bar_exact()\n"
   ]
  },
  {
   "cell_type": "code",
   "execution_count": 30,
   "id": "5f150dca",
   "metadata": {},
   "outputs": [
    {
     "name": "stderr",
     "output_type": "stream",
     "text": [
      "/tmp/ipykernel_1763744/3342805668.py:8: UserWarning: pandas only supports SQLAlchemy connectable (engine/connection) or database string URI or sqlite3 DBAPI2 connection. Other DBAPI2 objects are not tested. Please consider using SQLAlchemy.\n",
      "  df = pd.read_sql(query, conn)\n",
      "2025-06-05 22:02:20 [INFO] Fontsize 0.00 < 1.0 pt not allowed by FreeType. Setting fontsize = 1 pt\n"
     ]
    },
    {
     "data": {
      "image/png": "[encoded data removed]",
      "text/plain": [
       "<Figure size 800x600 with 1 Axes>"
      ]
     },
     "metadata": {},
     "output_type": "display_data"
    }
   ],
   "source": [
    "def plot_frequency_histogram_exact():\n",
    "    conn = setup_connection()\n",
    "    query = \"\"\"\n",
    "    SELECT user_id, COUNT(DISTINCT user_session) AS frequency\n",
    "    FROM customers\n",
    "    GROUP BY user_id\n",
    "    \"\"\"\n",
    "    df = pd.read_sql(query, conn)\n",
    "    conn.close()\n",
    "    \n",
    "    # Define bins: 0-5, 6-10, 11-15, 16-20, 21-25, 26-30, 31-35, 36-40\n",
    "    bins = [0, 6, 11, 16, 21, 26, 31, 36, 41]\n",
    "    labels = ['0-5', '6-10', '11-15', '16-20', '21-25', '26-30', '31-35', '36-40']\n",
    "    df['freq_bin'] = pd.cut(df['frequency'], bins=bins, labels=labels, right=False, include_lowest=True)\n",
    "    freq_counts = df['freq_bin'].value_counts().sort_index()\n",
    "\n",
    "    plt.figure(figsize=(8, 6))\n",
    "    plt.gca().set_facecolor('#E8E8F0')\n",
    "    plt.gcf().patch.set_facecolor('white')\n",
    "    \n",
    "    plt.bar(labels, freq_counts.values, \n",
    "            color='#7FB3D3', alpha=0.8, edgecolor='white', linewidth=1, width=1, align='center')\n",
    "    \n",
    "    plt.xlabel('frequency', fontsize=12, color='#333333')\n",
    "    plt.ylabel('customers', fontsize=12, color='#333333')\n",
    "    plt.xticks(fontsize=10, color='#666666')\n",
    "    plt.yticks(fontsize=10, color='#666666')\n",
    "    plt.grid(True, color='white', linewidth=1, alpha=0.8)\n",
    "    plt.gca().set_axisbelow(True)\n",
    "    plt.gca().spines['top'].set_visible(False)\n",
    "    plt.gca().spines['right'].set_visible(False)\n",
    "    plt.gca().spines['left'].set_color('#CCCCCC')\n",
    "    plt.gca().spines['bottom'].set_color('#CCCCCC')\n",
    "    plt.tight_layout()\n",
    "    plt.show()\n",
    "\n",
    "plot_frequency_histogram_exact()\n"
   ]
  },
  {
   "cell_type": "code",
   "execution_count": 14,
   "id": "5d12142c",
   "metadata": {},
   "outputs": [],
   "source": [
    "import sys\n",
    "import os\n",
    "import logging\n",
    "from datetime import datetime\n",
    "from collections import defaultdict\n",
    "import matplotlib.pyplot as plt\n",
    "\n",
    "# Set global matplotlib style to match target aesthetic\n",
    "plt.rcParams.update({\n",
    "    'font.size': 10,\n",
    "    'axes.labelsize': 10,\n",
    "    'xtick.labelsize': 9,\n",
    "    'ytick.labelsize': 9,\n",
    "    'axes.titlesize': 0,\n",
    "    'figure.figsize': (8, 5),\n",
    "    'axes.grid': True,\n",
    "    'axes.facecolor': '#f5f5f8',\n",
    "    'figure.facecolor': 'white',\n",
    "    'axes.edgecolor': '#e0e0e0',\n",
    "    'axes.linewidth': 0.5,\n",
    "    'font.family': 'sans-serif',\n",
    "    'grid.color': '#ffffff',\n",
    "    'grid.linewidth': 1,\n",
    "    'grid.alpha': 0.8\n",
    "})\n",
    "\n",
    "def ensure_output_dir():\n",
    "    output_dir = os.path.join(os.path.dirname(os.path.abspath(\"\")), '../generated')\n",
    "    os.makedirs(output_dir, exist_ok=True)\n",
    "    return output_dir\n",
    "\n",
    "# Configure logging\n",
    "logging.basicConfig(\n",
    "    level=logging.INFO,\n",
    "    format='%(asctime)s [%(levelname)s] %(message)s',\n",
    "    datefmt='%Y-%m-%d %H:%M:%S'\n",
    ")\n",
    "\n",
    "def log_and_run(func, description):\n",
    "    logging.info(f\"Started generating {description}...\")\n",
    "    start_time = datetime.now()\n",
    "    func()\n",
    "    end_time = datetime.now()\n",
    "    logging.info(f\"Finished generating {description} in {(end_time - start_time).total_seconds():.2f} seconds.\")"
   ]
  }
 ],
 "metadata": {
  "kernelspec": {
   "display_name": "Python 3",
   "language": "python",
   "name": "python3"
  },
  "language_info": {
   "codemirror_mode": {
    "name": "ipython",
    "version": 3
   },
   "file_extension": ".py",
   "mimetype": "text/x-python",
   "name": "python",
   "nbconvert_exporter": "python",
   "pygments_lexer": "ipython3",
   "version": "3.10.12"
  }
 },
 "nbformat": 4,
 "nbformat_minor": 5
}
