{
 "cells": [
  {
   "cell_type": "markdown",
   "id": "a7757904",
   "metadata": {},
   "source": [
    "# EX00\n",
    "\n",
    "##### You have to do the calculations by yourself. But you can use any library to display the graph. Print and display matrix confusion. You will have to re-use this exercice later on, so make sure you understand it. This will be checked during the evaluation."
   ]
  },
  {
   "cell_type": "markdown",
   "id": "2c7b795e",
   "metadata": {},
   "source": [
    "## Confusion Matrix in Data Science\n",
    "\n",
    "A **confusion matrix** is a fundamental evaluation tool in machine learning and classification tasks. It provides a detailed breakdown of correct and incorrect predictions made by a classification model.\n",
    "\n",
    "### Structure\n",
    "\n",
    "The confusion matrix is typically a square table where:\n",
    "- **Rows** represent the actual/true class labels\n",
    "- **Columns** represent the predicted class labels\n",
    "- Each cell contains the count of instances for that actual-predicted combination\n",
    "\n",
    "### For Binary Classification\n",
    "\n",
    "|                | Predicted Negative | Predicted Positive |\n",
    "|----------------|-------------------|-------------------|\n",
    "| **Actual Negative** | True Negative (TN) | False Positive (FP) |\n",
    "| **Actual Positive** | False Negative (FN) | True Positive (TP) |\n",
    "\n",
    "### Key Components\n",
    "\n",
    "- **True Positive (TP)**: Correctly predicted positive cases\n",
    "- **True Negative (TN)**: Correctly predicted negative cases\n",
    "- **False Positive (FP)**: Incorrectly predicted as positive (Type I error)\n",
    "- **False Negative (FN)**: Incorrectly predicted as negative (Type II error)\n",
    "\n",
    "### What It Tells Us\n",
    "\n",
    "1. **Model Accuracy**: Overall correctness of predictions\n",
    "2. **Precision**: How many predicted positives were actually positive\n",
    "3. **Recall (Sensitivity)**: How many actual positives were correctly identified\n",
    "4. **Specificity**: How many actual negatives were correctly identified\n",
    "5. **Class-specific Performance**: Which classes the model struggles with\n",
    "\n",
    "### Benefits\n",
    "\n",
    "- **Visual Interpretation**: Easy to see where the model makes mistakes\n",
    "- **Error Analysis**: Identify patterns in misclassification\n",
    "- **Performance Metrics**: Foundation for calculating various evaluation metrics\n",
    "- **Model Comparison**: Compare different models' performance patterns\n",
    "\n",
    "The confusion matrix is essential for understanding not just how well your model performs, but *how* and *where* it fails, enabling targeted improvements."
   ]
  },
  {
   "cell_type": "code",
   "execution_count": 5,
   "id": "18ddb874",
   "metadata": {},
   "outputs": [],
   "source": [
    "PRED_FILE = \"../predictions.txt\"\n",
    "TRU_FILE = \"../truth.txt\""
   ]
  },
  {
   "cell_type": "code",
   "execution_count": 6,
   "id": "6c371a14",
   "metadata": {},
   "outputs": [
    {
     "name": "stdout",
     "output_type": "stream",
     "text": [
      "Defaulting to user installation because normal site-packages is not writeable\n",
      "Requirement already satisfied: polars in /home/mman/.local/lib/python3.10/site-packages (1.30.0)\n",
      "Note: you may need to restart the kernel to use updated packages.\n"
     ]
    }
   ],
   "source": [
    "%pip install polars"
   ]
  },
  {
   "cell_type": "code",
   "execution_count": 7,
   "id": "b1588a53",
   "metadata": {},
   "outputs": [],
   "source": [
    "import polars as pl"
   ]
  },
  {
   "cell_type": "markdown",
   "id": "e6d8c84d",
   "metadata": {},
   "source": [
    "I have two files -- one is with truth.txt and other is predictions.txt. How do I compute the confusion matrix? "
   ]
  },
  {
   "cell_type": "code",
   "execution_count": 8,
   "id": "5b063b5d",
   "metadata": {},
   "outputs": [],
   "source": [
    "preds_df = pl.read_csv(PRED_FILE, separator='\\n', has_header=False, new_columns=['predictions'])\n",
    "truth_df = pl.read_csv(TRU_FILE, separator='\\n', has_header=False, new_columns=['truth'])\n",
    "\n",
    "df = pl.concat([truth_df, preds_df], how='horizontal')\n",
    "\n",
    "truth = df['truth'].to_list()\n",
    "preds = df['predictions'].to_list()"
   ]
  },
  {
   "cell_type": "code",
   "execution_count": 9,
   "id": "bd76ad68",
   "metadata": {},
   "outputs": [
    {
     "data": {
      "image/png": "[encoded data removed]",
      "text/plain": [
       "<Figure size 800x600 with 2 Axes>"
      ]
     },
     "metadata": {},
     "output_type": "display_data"
    }
   ],
   "source": [
    "import seaborn as sns\n",
    "import matplotlib.pyplot as plt\n",
    "\n",
    "labels = sorted(list(set(truth + preds)))\n",
    "n_labels = len(labels)\n",
    "label_to_idx = {label: i for i, label in enumerate(labels)}\n",
    "cm = [[0]*n_labels for _ in range(n_labels)]\n",
    "for t, p in zip(truth, preds):\n",
    "    cm[label_to_idx[t]][label_to_idx[p]] += 1\n",
    "\n",
    "plt.figure(figsize=(8, 6))\n",
    "sns.heatmap(cm, annot=True, fmt='d', cmap='viridis', \n",
    "            xticklabels=labels, yticklabels=labels)\n",
    "plt.xlabel('Predicted Label')\n",
    "plt.ylabel('True Label')\n",
    "plt.title('Confusion Matrix')\n",
    "plt.show()"
   ]
  },
  {
   "cell_type": "code",
   "execution_count": 10,
   "id": "1141a0d2",
   "metadata": {},
   "outputs": [
    {
     "name": "stdout",
     "output_type": "stream",
     "text": [
      "Classification Report:\n",
      "==================================================\n",
      "Class      Precision  Recall     F1-Score  \n",
      "--------------------------------------------------\n",
      "Jedi       0.455      0.510      0.481     \n",
      "Sith       0.467      0.412      0.437     \n",
      "--------------------------------------------------\n",
      "Macro Avg  0.461      0.461      0.459     \n",
      "==================================================\n",
      "Accuracy: 0.460\n",
      "Total samples: 100\n"
     ]
    }
   ],
   "source": [
    "TP_jedi = cm[0][0]\n",
    "FP_jedi = cm[1][0]\n",
    "FN_jedi = cm[0][1]\n",
    "TN_jedi = cm[1][1]\n",
    "\n",
    "TP_sith = cm[1][1]\n",
    "FP_sith = cm[0][1]\n",
    "FN_sith = cm[1][0]\n",
    "TN_sith = cm[0][0]\n",
    "\n",
    "precision_jedi = TP_jedi / (TP_jedi + FP_jedi) if (TP_jedi + FP_jedi) > 0 else 0\n",
    "recall_jedi = TP_jedi / (TP_jedi + FN_jedi) if (TP_jedi + FN_jedi) > 0 else 0\n",
    "f1_jedi = 2 * (precision_jedi * recall_jedi) / (precision_jedi + recall_jedi) if (precision_jedi + recall_jedi) > 0 else 0\n",
    "\n",
    "precision_sith = TP_sith / (TP_sith + FP_sith) if (TP_sith + FP_sith) > 0 else 0\n",
    "recall_sith = TP_sith / (TP_sith + FN_sith) if (TP_sith + FN_sith) > 0 else 0\n",
    "f1_sith = 2 * (precision_sith * recall_sith) / (precision_sith + recall_sith) if (precision_sith + recall_sith) > 0 else 0\n",
    "\n",
    "total_correct = TP_jedi + TP_sith\n",
    "total_samples = sum(sum(row) for row in cm)\n",
    "accuracy = total_correct / total_samples\n",
    "\n",
    "macro_precision = (precision_jedi + precision_sith) / 2\n",
    "macro_recall = (recall_jedi + recall_sith) / 2\n",
    "macro_f1 = (f1_jedi + f1_sith) / 2\n",
    "\n",
    "print(\"Classification Report:\")\n",
    "print(\"=\" * 50)\n",
    "print(f\"{'Class':<10} {'Precision':<10} {'Recall':<10} {'F1-Score':<10}\")\n",
    "print(\"-\" * 50)\n",
    "print(f\"{'Jedi':<10} {precision_jedi:<10.3f} {recall_jedi:<10.3f} {f1_jedi:<10.3f}\")\n",
    "print(f\"{'Sith':<10} {precision_sith:<10.3f} {recall_sith:<10.3f} {f1_sith:<10.3f}\")\n",
    "print(\"-\" * 50)\n",
    "print(f\"{'Macro Avg':<10} {macro_precision:<10.3f} {macro_recall:<10.3f} {macro_f1:<10.3f}\")\n",
    "print(\"=\" * 50)\n",
    "print(f\"Accuracy: {accuracy:.3f}\")\n",
    "print(f\"Total samples: {total_samples}\")\n"
   ]
  },
  {
   "cell_type": "markdown",
   "id": "2d21cc64",
   "metadata": {},
   "source": [
    "## Precision, Recall, and F1-Score: The Essential Metrics Trio\n",
    "\n",
    "**Precision** answers: \"Of all positive predictions, how many were correct?\" It measures the accuracy of positive predictions, calculated as TP/(TP+FP). High precision means fewer false alarms.\n",
    "\n",
    "**Recall** answers: \"Of all actual positives, how many did we catch?\" It measures completeness, calculated as TP/(TP+FN). High recall means fewer missed cases.\n",
    "\n",
    "**F1-Score** is the harmonic mean of precision and recall: 2×(Precision×Recall)/(Precision+Recall). It provides a single balanced metric when you need to consider both precision and recall equally.\n",
    "\n",
    "### The Trade-off\n",
    "- High precision often comes at the cost of lower recall\n",
    "- High recall may reduce precision\n",
    "- F1-Score helps balance this trade-off by penalizing extreme imbalances\n",
    "\n",
    "These metrics are crucial for understanding model performance beyond simple accuracy, especially in imbalanced datasets or when different types of errors have varying costs."
   ]
  },
  {
   "cell_type": "markdown",
   "id": "3fa6b9a9",
   "metadata": {},
   "source": [
    "## 🔎 Results Analysis\n",
    "\n",
    "Our binary classification model achieved an overall **accuracy of 46%** on 100 samples, performing slightly below random chance.\n",
    "\n",
    "### Class Performance\n",
    "- **Jedi Classification**: Better recall (51%) than precision (45.5%), meaning the model identifies most actual Jedi but with some false positives\n",
    "- **Sith Classification**: Higher precision (46.7%) than recall (41.2%), indicating more conservative Sith predictions with fewer false positives\n",
    "\n",
    "### Key Observations\n",
    "The model shows **poor discriminative ability** with macro-averaged metrics around 46%. The confusion matrix reveals significant misclassification in both directions, suggesting the model struggles to distinguish between Jedi and Sith classes effectively.\n",
    "\n",
    "This performance indicates the need for model improvement through feature engineering, algorithm selection, or additional training data.\n"
   ]
  },
  {
   "cell_type": "markdown",
   "id": "cbdcbe39",
   "metadata": {},
   "source": [
    "===================================\n",
    "=================================="
   ]
  },
  {
   "cell_type": "markdown",
   "id": "330d816b",
   "metadata": {},
   "source": [
    "# Demystifying Binary Classification: Why the \"Positive\" Class Label is Arbitrary\n",
    "\n",
    "## Executive Summary\n",
    "\n",
    "This analysis explores a fundamental confusion in machine learning education: the arbitrary nature of \"positive\" and \"negative\" class designations in binary classification. Through a practical confusion matrix implementation and discussion, we uncover why this historical terminology creates unnecessary complexity and propose clearer alternatives.\n",
    "\n",
    "## The Core Problem\n",
    "\n",
    "When evaluating binary classification models, practitioners often struggle with the concept of \"positive\" and \"negative\" classes. This confusion stems from a critical insight: **the designation is completely arbitrary and doesn't reflect any inherent property of the classes themselves**.\n",
    "\n",
    "## Key Findings\n",
    "\n",
    "### 1. Historical Baggage Creates Modern Confusion\n",
    "\n",
    "The \"positive/negative\" terminology originated in medical testing contexts where:\n",
    "- **Positive** = Disease detected\n",
    "- **Negative** = No disease detected\n",
    "\n",
    "This made intuitive sense in healthcare but became confusing when applied to general classification problems like distinguishing between apples and pineapples, or in our case, Jedi and Sith.\n",
    "\n",
    "### 2. The Model Doesn't Care About Labels\n",
    "\n",
    "Binary classifiers learn decision boundaries to separate two classes. The model treats both classes equally - it's simply learning to distinguish \"Class A\" from \"Class B.\" The human-assigned labels of \"positive\" and \"negative\" are purely organizational conveniences.\n",
    "\n",
    "### 3. Metrics Remain Consistent Regardless of Designation\n",
    "\n",
    "Our analysis showed that model performance is identical whether we designate Jedi or Sith as the \"positive\" class. Only our interpretation and reporting focus changes:\n",
    "\n",
    "- **Jedi as positive**: Precision = 45.5%, Recall = 51.0%\n",
    "- **Sith as positive**: Precision = 46.7%, Recall = 41.2%\n",
    "\n",
    "The underlying confusion matrix `[[25, 24], [30, 21]]` remains the same.\n",
    "\n",
    "### 4. Context Should Drive Class Focus\n",
    "\n",
    "The choice of which class to emphasize should be driven by:\n",
    "- **Problem context**: What are you trying to detect?\n",
    "- **Business impact**: Which type of error is more costly?\n",
    "- **Domain knowledge**: Which outcome matters most?\n",
    "\n",
    "## Practical Recommendations\n",
    "\n",
    "### 1. Use Class-Neutral Terminology\n",
    "\n",
    "Instead of \"positive/negative,\" consider:\n",
    "- **Class 0** vs **Class 1**\n",
    "- **Target Class A** vs **Target Class B**\n",
    "- **Category 1** vs **Category 2**\n",
    "\n",
    "### 2. Report Both Class Performances\n",
    "\n",
    "Always calculate and report metrics for both classes:\n",
    "```\n",
    "Class      Precision  Recall    F1-Score\n",
    "Jedi       0.455      0.510     0.481\n",
    "Sith       0.467      0.412     0.438\n",
    "```\n",
    "\n",
    "### 3. Use Macro-Averaged Metrics\n",
    "\n",
    "Macro-averaged metrics (46.1% precision, 46.1% recall, 46.0% F1) provide class-neutral performance summaries that avoid arbitrary positive class selection.\n",
    "\n",
    "## Implementation Insights\n",
    "\n",
    "Our confusion matrix implementation demonstrated:\n",
    "- Manual calculation yields identical results to library functions\n",
    "- Visual representation via heatmaps aids interpretation\n",
    "- Class-specific metrics can be calculated for any class designation\n",
    "\n",
    "## The Bigger Picture\n",
    "\n",
    "This analysis reveals a broader lesson about machine learning education: **historical terminology can impede understanding**. The \"positive/negative\" class convention is a prime example of how medical statistics terminology, while appropriate in its original context, creates unnecessary cognitive overhead in general machine learning applications.\n",
    "\n",
    "## Conclusion\n",
    "\n",
    "The arbitrary nature of \"positive\" class designation in binary classification is not a bug - it's a feature that reflects the symmetric nature of binary classification problems. Understanding this arbitrariness liberates practitioners from unnecessary confusion and enables clearer, more context-appropriate analysis.\n",
    "\n",
    "The real question isn't \"which class should be positive?\" but rather \"which class performance matters most for my specific problem?\" This reframing leads to more thoughtful model evaluation and better alignment between technical metrics and business objectives.\n",
    "\n",
    "Moving forward, the machine learning community would benefit from adopting more intuitive, class-neutral terminology that reflects the symmetric nature of binary classification while maintaining the flexibility to emphasize whichever class is most relevant to the specific application context.\n",
    "\n",
    "\n",
    "====\n",
    "\n",
    "\n",
    "### Your Mental Model is Actually Better\n",
    "\n",
    "You're thinking about it correctly:\n",
    "- **Class 0** vs **Class 1** \n",
    "- **Thing A** vs **Thing B**\n",
    "- **Category 1** vs **Category 2**\n",
    "\n",
    "This is much clearer than the \"positive/negative\" terminology!\n",
    "\n",
    "### What It Really Means\n",
    "\n",
    "In our confusion matrix `[[25, 24], [30, 21]]`:\n",
    "\n",
    "**Row 0 (Jedi), Column 0 (Jedi): 25** = \"I guessed Jedi, it was Jedi\" ✅\n",
    "**Row 0 (Jedi), Column 1 (Sith): 24** = \"I guessed Sith, it was Jedi\" ❌\n",
    "**Row 1 (Sith), Column 0 (Jedi): 30** = \"I guessed Jedi, it was Sith\" ❌  \n",
    "**Row 1 (Sith), Column 1 (Sith): 21** = \"I guessed Sith, it was Sith\" ✅\n",
    "\n",
    "### The Translation Problem\n",
    "\n",
    "When we arbitrarily call \"Jedi\" the \"positive class\":\n",
    "- **False Positive** = \"Guessed Jedi (positive), but was actually Sith\" = 30\n",
    "- **False Negative** = \"Guessed Sith (negative), but was actually Jedi\" = 24"
   ]
  }
 ],
 "metadata": {
  "kernelspec": {
   "display_name": "Python 3",
   "language": "python",
   "name": "python3"
  },
  "language_info": {
   "codemirror_mode": {
    "name": "ipython",
    "version": 3
   },
   "file_extension": ".py",
   "mimetype": "text/x-python",
   "name": "python",
   "nbconvert_exporter": "python",
   "pygments_lexer": "ipython3",
   "version": "3.10.12"
  }
 },
 "nbformat": 4,
 "nbformat_minor": 5
}
