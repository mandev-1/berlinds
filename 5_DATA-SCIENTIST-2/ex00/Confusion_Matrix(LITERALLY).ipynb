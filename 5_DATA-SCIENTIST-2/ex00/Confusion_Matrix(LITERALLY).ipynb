{
 "cells": [
  {
   "cell_type": "markdown",
   "id": "adc92a60",
   "metadata": {},
   "source": [
    "# EX00\n",
    "\n",
    "##### You have to do the calculations by yourself. But you can use any library to display the graph. Print and display matrix confusion. You will have to re-use this exercice later on, so make sure you understand it. This will be checked during the evaluation."
   ]
  },
  {
   "cell_type": "markdown",
   "id": "dbe2bd71",
   "metadata": {},
   "source": [
    "Confusion Matrix:\n",
    "\n",
    "1. Visible Symbols (ASCII)\n",
    "2. INTENSITY, DISTANCE FROM VIEWPORT, OFFSET FROM BOTTOM, OPACITY, BOTTOM SYMBOL IS WHITE, OTHER ARE WHITE WITH NEON GREEN 'GLOW EFFECT', SOME BLUR\n",
    "3. SOME SYMBOLS ARE MIRRORED (RANDOM)\n",
    "4. SOME LINES ARE OVERLAYED WITH A VERY SMALL, YET NOT VERY OPAQUE LINES."
   ]
  },
  {
   "cell_type": "markdown",
   "id": "4fad17ab",
   "metadata": {},
   "source": [
    "LETS START WITH:\n",
    "\n",
    "\n",
    "Z DIMENSION: 0 - 10\n",
    "X - SYMBOL x GAP THE WIDTH OF 1 SYMBOL x SYMBOL x ......\n",
    "Y - 27 SYMBOLS SNAKE - FIRST NO GLOW, LAST OPACITY 30\n",
    "\n",
    "+ 1/13 lines on the z dimension 0 is full white with blur. "
   ]
  },
  {
   "cell_type": "markdown",
   "id": "000c9c42",
   "metadata": {},
   "source": [
    "TODO: ADD THE ANALOG MONITOR FILTER SOMEHOW"
   ]
  },
  {
   "cell_type": "code",
   "execution_count": 87,
   "id": "cb47694e",
   "metadata": {},
   "outputs": [],
   "source": [
    "# SOURCE = http://www.rikai.com/library/kanjitables/kanji_codes.unicode.shtml\n",
    "# SOURCE = http://www.rikai.com/library/kanjitables/kanji_codes.unicode.shtml\n",
    "\n",
    "SYMBOL_BANK = []\n",
    "\n",
    "SYMBOL_BANK += ['A', 'B', 'C', 'D', 'E', 'F', 'G', 'H', 'I', 'J', 'K', 'L', 'M', 'N', 'O', 'P', 'Q', 'R',\n",
    "                'S', 'T', 'U', 'V', 'W', 'X', 'Y', 'Z']\n",
    "\n",
    "SYMBOL_BANK += ['0', '1', '2', '3', '4', '5', '6', '7', '8', '9']\n",
    "\n",
    "SYMBOL_BANK += ['A', 'B', 'C', 'D', 'E', 'F', 'G', 'H', 'I', 'J', 'K', 'L', 'M', 'N', 'O', 'P', 'Q', 'R',\n",
    "                'S', 'T', 'U', 'V', 'W', 'X', 'Y', 'Z']\n",
    "\n",
    "SYMBOL_BANK += ['0', '1', '2', '3', '4', '5', '6', '7', '8', '9']\n",
    "\n",
    "# SYMBOL_BANK += ['0', '1', '2', '3', '4', '5', '6', '7', '8', '9']\n",
    "\n",
    "SYMBOL_BANK += ['ア', 'イ', 'ウ', 'エ', 'オ', 'カ', 'キ', 'ク', 'ケ', 'コ', 'サ', 'シ', 'ス', 'セ', 'ソ', 'タ', 'チ', \n",
    "                'ツ', 'テ', 'ト', 'ナ', 'ニ', 'ヌ', 'ネ', 'ノ', 'ハ', 'ヒ', 'フ', 'ヘ', 'ホ', 'マ', 'ミ', 'ム', 'メ', 'モ', 'ヤ', 'ユ', 'ヨ', 'ラ', 'リ', 'ル', 'レ', 'ロ', 'ワ', 'ヲ', 'ン']\n",
    "\n",
    "# SYMBOL_BANK += ['が', 'ぎ', 'ぐ', 'げ', 'ご', 'ざ', 'じ', 'ず', 'ぜ', 'ぞ', 'だ', 'ぢ', 'づ', 'で', 'ど', 'ば', 'び', 'ぶ', 'べ', 'ぼ']\n",
    "\n",
    "SYMBOL_BANK += ['ぱ', 'ぴ', 'ぷ', 'ぺ', 'ぽ']\n",
    "\n",
    "# SYMBOL_BANK += ['ぁ', 'ぃ', 'ぅ', 'ぇ', 'ぉ', 'っ', 'ゃ', 'ゅ', 'ょ']"
   ]
  },
  {
   "cell_type": "code",
   "execution_count": 88,
   "id": "dc1b7fa5",
   "metadata": {},
   "outputs": [],
   "source": [
    "OFFSET = [[],[],[]]\n",
    "PIXELS = [[],[]]"
   ]
  },
  {
   "cell_type": "code",
   "execution_count": 89,
   "id": "5bbddc36",
   "metadata": {},
   "outputs": [],
   "source": [
    "IMAGE_DIMENSIONS = [1920, 1080]\n",
    "SYMBOL_WIDTH = 64\n",
    "SYMBOL_WIDTH_MIN = 18\n",
    "OPACITY = 0.8\n",
    "SEQUENCE_LEN = 27"
   ]
  },
  {
   "cell_type": "code",
   "execution_count": 90,
   "id": "365baf7f",
   "metadata": {},
   "outputs": [
    {
     "name": "stdout",
     "output_type": "stream",
     "text": [
      "Image dimensions: 1920x1080\n"
     ]
    }
   ],
   "source": [
    "width = IMAGE_DIMENSIONS[0]\n",
    "height = IMAGE_DIMENSIONS[1]\n",
    "\n",
    "print(\"Image dimensions: {}x{}\".format(width, height))"
   ]
  },
  {
   "cell_type": "code",
   "execution_count": 91,
   "id": "f9417f66",
   "metadata": {},
   "outputs": [],
   "source": [
    "from PIL import ImageFont"
   ]
  },
  {
   "cell_type": "code",
   "execution_count": 92,
   "id": "71752950",
   "metadata": {},
   "outputs": [],
   "source": [
    "from PIL import Image\n",
    "\n",
    "img = Image.new('RGB', (width, height))\n",
    "img.save('image.png')"
   ]
  },
  {
   "cell_type": "code",
   "execution_count": 93,
   "id": "c65e17b2",
   "metadata": {},
   "outputs": [
    {
     "name": "stdout",
     "output_type": "stream",
     "text": [
      "(['K', 'リ', 'W', 'ぱ', 'W', 'ル', 'A', 'F', 'ぴ', 'M', 'ぴ', '1', 'V', 'リ', '6', '0', 'L', 'A', '8', 'ア', 'T', '4', 'H', 'ム', '1', 'O', 'T'], ['8', '9', 'コ', 'イ', 'F', 'レ', 'X', 'ぷ', 'Y', 'ル', 'G', '1', 'ア', 'K', 'タ', 'S', '6', 'R', 'ク', 'ラ', 'オ', 'K', '4', '0', 'K', 'P', 'カ'], ['6', '4', 'ケ', 'F', 'モ', 'ク', '6', 'L', 'エ', 'チ', 'K', 'ウ', 'X', 'X', 'Y', '2', 'U', 'ツ', 'V', 'レ', 'ル', 'J', 'U', 'S', '8', 'ヒ', 'L'], ['2', 'ぱ', 'I', 'Z', 'ツ', 'H', 'ツ', 'V', '5', '1', 'シ', 'D', 'ユ', '9', '5', 'X', 'R', 'キ', '2', 'R', 'エ', 'ニ', 'F', 'Q', 'タ', 'A', 'ぴ'], ['S', '1', 'メ', 'オ', 'T', 'X', '4', 'ン', 'Z', 'W', 'ぱ', 'L', 'ロ', 'I', 'ニ', '7', '6', '4', '8', 'ス', '2', 'J', 'U', 'ぱ', 'ハ', 'ヒ', '6'])\n"
     ]
    }
   ],
   "source": [
    "import random\n",
    "\n",
    "def generate_line(row, depth, offset):\n",
    "    sequence_1 = []\n",
    "    sequence_2 = []\n",
    "    sequence_3 = []\n",
    "    sequence_4 = []\n",
    "    sequence_5 = []\n",
    "    for i in range(SEQUENCE_LEN):\n",
    "        sequence_1.append(SYMBOL_BANK[random.randint(0, len(SYMBOL_BANK) - 1)])\n",
    "        sequence_2.append(SYMBOL_BANK[random.randint(0, len(SYMBOL_BANK) - 1)])\n",
    "        sequence_3.append(SYMBOL_BANK[random.randint(0, len(SYMBOL_BANK) - 1)])\n",
    "        sequence_4.append(SYMBOL_BANK[random.randint(0, len(SYMBOL_BANK) - 1)])\n",
    "        sequence_5.append(SYMBOL_BANK[random.randint(0, len(SYMBOL_BANK) - 1)])\n",
    "    return sequence_1, sequence_2, sequence_3, sequence_4, sequence_5\n",
    "\n",
    "sequence = generate_line(0, 0, 0)\n",
    "print(sequence)"
   ]
  },
  {
   "cell_type": "code",
   "execution_count": 94,
   "id": "f3e168a7",
   "metadata": {},
   "outputs": [],
   "source": [
    "from PIL import ImageDraw"
   ]
  },
  {
   "cell_type": "code",
   "execution_count": 95,
   "id": "b7b0f426",
   "metadata": {},
   "outputs": [
    {
     "name": "stdout",
     "output_type": "stream",
     "text": [
      "K\n"
     ]
    }
   ],
   "source": [
    "print(sequence[0][0])"
   ]
  },
  {
   "cell_type": "code",
   "execution_count": 97,
   "id": "d7541837",
   "metadata": {},
   "outputs": [],
   "source": [
    "def create_matrix_background(width, height, background_color=(0, 0, 0)):\n",
    "    return Image.new('RGB', (width, height), background_color)\n",
    "\n",
    "def get_font(font_size=12):\n",
    "    try:\n",
    "        return ImageFont.truetype(\"NotoSansCJK-Regular.ttc\", font_size)\n",
    "    except:\n",
    "        try:\n",
    "            return ImageFont.truetype(\"arial.ttf\", font_size)\n",
    "        except:\n",
    "            return ImageFont.load_default()\n",
    "\n",
    "def calculate_symbol_color(symbol_index, sequence_length, opacity, is_last_symbol=False):\n",
    "    if is_last_symbol:\n",
    "        return (255, 255, 255)\n",
    "    else:\n",
    "        opacity_factor = (symbol_index + 1) / sequence_length * 0.8\n",
    "        color_value = int(255 * opacity * opacity_factor)\n",
    "        return (0, color_value, 0)\n",
    "\n",
    "def draw_matrix_column(draw, sequence_set, font, column_x, row_height, opacity, sequence_len, max_height, offset_y=0):\n",
    "    for seq_index, seq in enumerate(sequence_set):\n",
    "        for symbol_index, symbol in enumerate(seq):\n",
    "            y_pos = offset_y + (seq_index * sequence_len + symbol_index) * row_height\n",
    "            if 0 <= y_pos < max_height - row_height:\n",
    "                is_last = symbol_index == sequence_len - 1\n",
    "                color = calculate_symbol_color(symbol_index, sequence_len, opacity, is_last)\n",
    "                draw.text((column_x, y_pos), symbol, fill=color, font=font)\n",
    "\n",
    "def render_matrix_effect(sequences, width, height, opacity=0.8, sequence_len=27):\n",
    "    img = create_matrix_background(width, height)\n",
    "    draw = ImageDraw.Draw(img)\n",
    "    num_columns = width // SYMBOL_WIDTH_MIN\n",
    "    column_spacing = width / num_columns\n",
    "    for col in range(num_columns):\n",
    "        symbol_width_variation = SYMBOL_WIDTH_MIN + (col % 20) * 2\n",
    "        font_size = max(12, symbol_width_variation // 3)\n",
    "        font = get_font(font_size)\n",
    "        column_x = int(col * column_spacing)\n",
    "        row_height = symbol_width_variation // 2\n",
    "        offset_y = random.randint(-500, 200)\n",
    "        column_sequences = generate_line(0, 0, 0)\n",
    "        draw_matrix_column(draw, column_sequences, font, column_x, row_height, \n",
    "                          opacity, sequence_len, height, offset_y)\n",
    "    return img\n",
    "\n",
    "matrix_img = render_matrix_effect(sequence, width, height, OPACITY, SEQUENCE_LEN)\n",
    "matrix_img.save('image.png')\n"
   ]
  },
  {
   "cell_type": "code",
   "execution_count": null,
   "id": "7425c537",
   "metadata": {},
   "outputs": [],
   "source": []
  }
 ],
 "metadata": {
  "kernelspec": {
   "display_name": "Python 3",
   "language": "python",
   "name": "python3"
  },
  "language_info": {
   "codemirror_mode": {
    "name": "ipython",
    "version": 3
   },
   "file_extension": ".py",
   "mimetype": "text/x-python",
   "name": "python",
   "nbconvert_exporter": "python",
   "pygments_lexer": "ipython3",
   "version": "3.10.12"
  }
 },
 "nbformat": 4,
 "nbformat_minor": 5
}
